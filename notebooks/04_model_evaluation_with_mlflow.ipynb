{
 "cells": [
  {
   "cell_type": "code",
   "execution_count": 1,
   "metadata": {},
   "outputs": [],
   "source": [
    "import os"
   ]
  },
  {
   "cell_type": "code",
   "execution_count": 2,
   "metadata": {},
   "outputs": [
    {
     "data": {
      "text/plain": [
       "'c:\\\\Users\\\\anyum\\\\OneDrive\\\\Desktop\\\\src\\\\pjcts\\\\Done\\\\cnn-classifier\\\\notebooks'"
      ]
     },
     "execution_count": 2,
     "metadata": {},
     "output_type": "execute_result"
    }
   ],
   "source": [
    "%pwd"
   ]
  },
  {
   "cell_type": "code",
   "execution_count": 3,
   "metadata": {},
   "outputs": [],
   "source": [
    "os.chdir(\"../\")"
   ]
  },
  {
   "cell_type": "code",
   "execution_count": 4,
   "metadata": {},
   "outputs": [
    {
     "data": {
      "text/plain": [
       "'c:\\\\Users\\\\anyum\\\\OneDrive\\\\Desktop\\\\src\\\\pjcts\\\\Done\\\\cnn-classifier'"
      ]
     },
     "execution_count": 4,
     "metadata": {},
     "output_type": "execute_result"
    }
   ],
   "source": [
    "%pwd"
   ]
  },
  {
   "cell_type": "code",
   "execution_count": 5,
   "metadata": {},
   "outputs": [],
   "source": [
    "os.environ[\"MLFLOW_TRACKING_URI\"]=\"https://dagshub.com/chaba-victor/cnn-classifier.mlflow\"\n",
    "os.environ[\"MLFLOW_TRACKING_USERNAME\"]=\"chaba-victor\"\n",
    "os.environ[\"MLFLOW_TRACKING_PASSWORD\"]=\"Quantumn30#\""
   ]
  },
  {
   "cell_type": "code",
   "execution_count": 6,
   "metadata": {},
   "outputs": [],
   "source": [
    "import tensorflow as tf"
   ]
  },
  {
   "cell_type": "code",
   "execution_count": 7,
   "metadata": {},
   "outputs": [],
   "source": [
    "model = tf.keras.models.load_model(\"artifacts/training/model.h5\")"
   ]
  },
  {
   "cell_type": "code",
   "execution_count": 8,
   "metadata": {},
   "outputs": [],
   "source": [
    "from dataclasses import dataclass\n",
    "from pathlib import Path\n",
    "\n",
    "@dataclass(frozen=True)\n",
    "class EvaluationConfig:\n",
    "    path_of_model: Path\n",
    "    training_data: Path\n",
    "    all_params: dict\n",
    "    mlflow_uri: str\n",
    "    params_image_size: list\n",
    "    params_batch_size: int"
   ]
  },
  {
   "cell_type": "code",
   "execution_count": 9,
   "metadata": {},
   "outputs": [],
   "source": [
    "from cnnClassifier.constants import *\n",
    "from cnnClassifier.utils.common import read_yaml, create_directories, save_json"
   ]
  },
  {
   "cell_type": "code",
   "execution_count": 10,
   "metadata": {},
   "outputs": [],
   "source": [
    "class ConfigurationManager:\n",
    "    def __init__(\n",
    "        self, \n",
    "        config_filepath = CONFIG_FILE_PATH,\n",
    "        params_filepath = PARAMS_FILE_PATH):\n",
    "        self.config = read_yaml(config_filepath)\n",
    "        self.params = read_yaml(params_filepath)\n",
    "        create_directories([self.config.artifacts_root])\n",
    "\n",
    "    \n",
    "    def get_evaluation_config(self) -> EvaluationConfig:\n",
    "        eval_config = EvaluationConfig(\n",
    "            path_of_model=\"artifacts/training/model.h5\",\n",
    "            training_data=\"artifacts/data_ingestion/kidney-ct-scan-image\",\n",
    "            mlflow_uri=\"https://dagshub.com/chaba-victor/cnn-classifier.mlflow\",\n",
    "            all_params=self.params,\n",
    "            params_image_size=self.params.IMAGE_SIZE,\n",
    "            params_batch_size=self.params.BATCH_SIZE\n",
    "        )\n",
    "        return eval_config\n",
    "\n",
    "\n"
   ]
  },
  {
   "cell_type": "code",
   "execution_count": 11,
   "metadata": {},
   "outputs": [
    {
     "name": "stdout",
     "output_type": "stream",
     "text": [
      "Requirement already satisfied: dagshub in c:\\users\\anyum\\anaconda3\\envs\\cnncl\\lib\\site-packages (0.5.9)\n",
      "Requirement already satisfied: PyYAML>=5 in c:\\users\\anyum\\anaconda3\\envs\\cnncl\\lib\\site-packages (from dagshub) (6.0.2)\n",
      "Requirement already satisfied: appdirs>=1.4.4 in c:\\users\\anyum\\anaconda3\\envs\\cnncl\\lib\\site-packages (from dagshub) (1.4.4)\n",
      "Requirement already satisfied: click>=8.0.4 in c:\\users\\anyum\\anaconda3\\envs\\cnncl\\lib\\site-packages (from dagshub) (8.1.8)\n",
      "Requirement already satisfied: httpx>=0.23.0 in c:\\users\\anyum\\anaconda3\\envs\\cnncl\\lib\\site-packages (from dagshub) (0.28.1)\n",
      "Requirement already satisfied: GitPython>=3.1.29 in c:\\users\\anyum\\anaconda3\\envs\\cnncl\\lib\\site-packages (from dagshub) (3.1.44)\n",
      "Requirement already satisfied: rich>=13.1.0 in c:\\users\\anyum\\anaconda3\\envs\\cnncl\\lib\\site-packages (from dagshub) (14.0.0)\n",
      "Requirement already satisfied: dacite~=1.6.0 in c:\\users\\anyum\\anaconda3\\envs\\cnncl\\lib\\site-packages (from dagshub) (1.6.0)\n",
      "Requirement already satisfied: tenacity>=8.2.2 in c:\\users\\anyum\\anaconda3\\envs\\cnncl\\lib\\site-packages (from dagshub) (9.0.0)\n",
      "Requirement already satisfied: gql[requests] in c:\\users\\anyum\\anaconda3\\envs\\cnncl\\lib\\site-packages (from dagshub) (3.5.2)\n",
      "Requirement already satisfied: dataclasses-json in c:\\users\\anyum\\anaconda3\\envs\\cnncl\\lib\\site-packages (from dagshub) (0.6.7)\n",
      "Requirement already satisfied: pandas in c:\\users\\anyum\\anaconda3\\envs\\cnncl\\lib\\site-packages (from dagshub) (2.0.3)\n",
      "Requirement already satisfied: treelib>=1.6.4 in c:\\users\\anyum\\anaconda3\\envs\\cnncl\\lib\\site-packages (from dagshub) (1.7.1)\n",
      "Requirement already satisfied: pathvalidate>=3.0.0 in c:\\users\\anyum\\anaconda3\\envs\\cnncl\\lib\\site-packages (from dagshub) (3.2.1)\n",
      "Requirement already satisfied: python-dateutil in c:\\users\\anyum\\anaconda3\\envs\\cnncl\\lib\\site-packages (from dagshub) (2.9.0.post0)\n",
      "Requirement already satisfied: boto3 in c:\\users\\anyum\\anaconda3\\envs\\cnncl\\lib\\site-packages (from dagshub) (1.37.29)\n",
      "Requirement already satisfied: semver in c:\\users\\anyum\\anaconda3\\envs\\cnncl\\lib\\site-packages (from dagshub) (3.0.4)\n",
      "Requirement already satisfied: dagshub-annotation-converter>=0.1.5 in c:\\users\\anyum\\anaconda3\\envs\\cnncl\\lib\\site-packages (from dagshub) (0.1.8)\n",
      "Requirement already satisfied: colorama in c:\\users\\anyum\\anaconda3\\envs\\cnncl\\lib\\site-packages (from click>=8.0.4->dagshub) (0.4.6)\n",
      "Requirement already satisfied: lxml in c:\\users\\anyum\\anaconda3\\envs\\cnncl\\lib\\site-packages (from dagshub-annotation-converter>=0.1.5->dagshub) (5.3.2)\n",
      "Requirement already satisfied: pillow in c:\\users\\anyum\\anaconda3\\envs\\cnncl\\lib\\site-packages (from dagshub-annotation-converter>=0.1.5->dagshub) (10.4.0)\n",
      "Requirement already satisfied: pydantic>=2.0.0 in c:\\users\\anyum\\anaconda3\\envs\\cnncl\\lib\\site-packages (from dagshub-annotation-converter>=0.1.5->dagshub) (2.10.6)\n",
      "Requirement already satisfied: typing-extensions in c:\\users\\anyum\\anaconda3\\envs\\cnncl\\lib\\site-packages (from dagshub-annotation-converter>=0.1.5->dagshub) (4.12.2)\n",
      "Requirement already satisfied: gitdb<5,>=4.0.1 in c:\\users\\anyum\\anaconda3\\envs\\cnncl\\lib\\site-packages (from GitPython>=3.1.29->dagshub) (4.0.12)\n",
      "Requirement already satisfied: anyio in c:\\users\\anyum\\anaconda3\\envs\\cnncl\\lib\\site-packages (from httpx>=0.23.0->dagshub) (4.5.2)\n",
      "Requirement already satisfied: certifi in c:\\users\\anyum\\anaconda3\\envs\\cnncl\\lib\\site-packages (from httpx>=0.23.0->dagshub) (2025.1.31)\n",
      "Requirement already satisfied: httpcore==1.* in c:\\users\\anyum\\anaconda3\\envs\\cnncl\\lib\\site-packages (from httpx>=0.23.0->dagshub) (1.0.7)\n",
      "Requirement already satisfied: idna in c:\\users\\anyum\\anaconda3\\envs\\cnncl\\lib\\site-packages (from httpx>=0.23.0->dagshub) (3.10)\n",
      "Requirement already satisfied: h11<0.15,>=0.13 in c:\\users\\anyum\\anaconda3\\envs\\cnncl\\lib\\site-packages (from httpcore==1.*->httpx>=0.23.0->dagshub) (0.14.0)\n",
      "Requirement already satisfied: markdown-it-py>=2.2.0 in c:\\users\\anyum\\anaconda3\\envs\\cnncl\\lib\\site-packages (from rich>=13.1.0->dagshub) (3.0.0)\n",
      "Requirement already satisfied: pygments<3.0.0,>=2.13.0 in c:\\users\\anyum\\anaconda3\\envs\\cnncl\\lib\\site-packages (from rich>=13.1.0->dagshub) (2.19.1)\n",
      "Requirement already satisfied: six in c:\\users\\anyum\\anaconda3\\envs\\cnncl\\lib\\site-packages (from treelib>=1.6.4->dagshub) (1.17.0)\n",
      "Requirement already satisfied: botocore<1.38.0,>=1.37.29 in c:\\users\\anyum\\anaconda3\\envs\\cnncl\\lib\\site-packages (from boto3->dagshub) (1.37.29)\n",
      "Requirement already satisfied: jmespath<2.0.0,>=0.7.1 in c:\\users\\anyum\\anaconda3\\envs\\cnncl\\lib\\site-packages (from boto3->dagshub) (1.0.1)\n",
      "Requirement already satisfied: s3transfer<0.12.0,>=0.11.0 in c:\\users\\anyum\\anaconda3\\envs\\cnncl\\lib\\site-packages (from boto3->dagshub) (0.11.4)\n",
      "Requirement already satisfied: marshmallow<4.0.0,>=3.18.0 in c:\\users\\anyum\\anaconda3\\envs\\cnncl\\lib\\site-packages (from dataclasses-json->dagshub) (3.22.0)\n",
      "Requirement already satisfied: typing-inspect<1,>=0.4.0 in c:\\users\\anyum\\anaconda3\\envs\\cnncl\\lib\\site-packages (from dataclasses-json->dagshub) (0.9.0)\n",
      "Requirement already satisfied: graphql-core<3.2.5,>=3.2 in c:\\users\\anyum\\anaconda3\\envs\\cnncl\\lib\\site-packages (from gql[requests]->dagshub) (3.2.4)\n",
      "Requirement already satisfied: yarl<2.0,>=1.6 in c:\\users\\anyum\\anaconda3\\envs\\cnncl\\lib\\site-packages (from gql[requests]->dagshub) (1.15.2)\n",
      "Requirement already satisfied: backoff<3.0,>=1.11.1 in c:\\users\\anyum\\anaconda3\\envs\\cnncl\\lib\\site-packages (from gql[requests]->dagshub) (2.2.1)\n",
      "Requirement already satisfied: requests<3,>=2.26 in c:\\users\\anyum\\anaconda3\\envs\\cnncl\\lib\\site-packages (from gql[requests]->dagshub) (2.32.3)\n",
      "Requirement already satisfied: requests-toolbelt<2,>=1.0.0 in c:\\users\\anyum\\anaconda3\\envs\\cnncl\\lib\\site-packages (from gql[requests]->dagshub) (1.0.0)\n",
      "Requirement already satisfied: pytz>=2020.1 in c:\\users\\anyum\\anaconda3\\envs\\cnncl\\lib\\site-packages (from pandas->dagshub) (2022.7.1)\n",
      "Requirement already satisfied: tzdata>=2022.1 in c:\\users\\anyum\\anaconda3\\envs\\cnncl\\lib\\site-packages (from pandas->dagshub) (2025.2)\n",
      "Requirement already satisfied: numpy>=1.20.3 in c:\\users\\anyum\\anaconda3\\envs\\cnncl\\lib\\site-packages (from pandas->dagshub) (1.23.5)\n",
      "Requirement already satisfied: sniffio>=1.1 in c:\\users\\anyum\\anaconda3\\envs\\cnncl\\lib\\site-packages (from anyio->httpx>=0.23.0->dagshub) (1.3.1)\n",
      "Requirement already satisfied: exceptiongroup>=1.0.2 in c:\\users\\anyum\\anaconda3\\envs\\cnncl\\lib\\site-packages (from anyio->httpx>=0.23.0->dagshub) (1.2.2)\n",
      "Requirement already satisfied: urllib3<1.27,>=1.25.4 in c:\\users\\anyum\\anaconda3\\envs\\cnncl\\lib\\site-packages (from botocore<1.38.0,>=1.37.29->boto3->dagshub) (1.26.20)\n",
      "Requirement already satisfied: smmap<6,>=3.0.1 in c:\\users\\anyum\\anaconda3\\envs\\cnncl\\lib\\site-packages (from gitdb<5,>=4.0.1->GitPython>=3.1.29->dagshub) (5.0.2)\n",
      "Requirement already satisfied: mdurl~=0.1 in c:\\users\\anyum\\anaconda3\\envs\\cnncl\\lib\\site-packages (from markdown-it-py>=2.2.0->rich>=13.1.0->dagshub) (0.1.2)\n",
      "Requirement already satisfied: packaging>=17.0 in c:\\users\\anyum\\anaconda3\\envs\\cnncl\\lib\\site-packages (from marshmallow<4.0.0,>=3.18.0->dataclasses-json->dagshub) (23.2)\n",
      "Requirement already satisfied: annotated-types>=0.6.0 in c:\\users\\anyum\\anaconda3\\envs\\cnncl\\lib\\site-packages (from pydantic>=2.0.0->dagshub-annotation-converter>=0.1.5->dagshub) (0.7.0)\n",
      "Requirement already satisfied: pydantic-core==2.27.2 in c:\\users\\anyum\\anaconda3\\envs\\cnncl\\lib\\site-packages (from pydantic>=2.0.0->dagshub-annotation-converter>=0.1.5->dagshub) (2.27.2)\n",
      "Requirement already satisfied: charset-normalizer<4,>=2 in c:\\users\\anyum\\anaconda3\\envs\\cnncl\\lib\\site-packages (from requests<3,>=2.26->gql[requests]->dagshub) (3.4.1)\n",
      "Requirement already satisfied: mypy-extensions>=0.3.0 in c:\\users\\anyum\\anaconda3\\envs\\cnncl\\lib\\site-packages (from typing-inspect<1,>=0.4.0->dataclasses-json->dagshub) (1.0.0)\n",
      "Requirement already satisfied: multidict>=4.0 in c:\\users\\anyum\\anaconda3\\envs\\cnncl\\lib\\site-packages (from yarl<2.0,>=1.6->gql[requests]->dagshub) (6.1.0)\n",
      "Requirement already satisfied: propcache>=0.2.0 in c:\\users\\anyum\\anaconda3\\envs\\cnncl\\lib\\site-packages (from yarl<2.0,>=1.6->gql[requests]->dagshub) (0.2.0)\n",
      "Note: you may need to restart the kernel to use updated packages.\n"
     ]
    }
   ],
   "source": [
    "%pip install dagshub"
   ]
  },
  {
   "cell_type": "code",
   "execution_count": 12,
   "metadata": {},
   "outputs": [],
   "source": [
    "import tensorflow as tf\n",
    "from pathlib import Path\n",
    "import mlflow\n",
    "import mlflow.keras\n",
    "from urllib.parse import urlparse\n",
    "import dagshub"
   ]
  },
  {
   "cell_type": "code",
   "execution_count": 13,
   "metadata": {},
   "outputs": [
    {
     "data": {
      "text/html": [
       "<pre style=\"white-space:pre;overflow-x:auto;line-height:normal;font-family:Menlo,'DejaVu Sans Mono',consolas,'Courier New',monospace\">                                       <span style=\"font-weight: bold\">❗❗❗ AUTHORIZATION REQUIRED ❗❗❗</span>                                        \n",
       "</pre>\n"
      ],
      "text/plain": [
       "                                       \u001b[1m❗❗❗ AUTHORIZATION REQUIRED ❗❗❗\u001b[0m                                        \n"
      ]
     },
     "metadata": {},
     "output_type": "display_data"
    },
    {
     "data": {
      "text/html": [
       "<pre style=\"white-space:pre;overflow-x:auto;line-height:normal;font-family:Menlo,'DejaVu Sans Mono',consolas,'Courier New',monospace\">c:\\Users\\anyum\\anaconda3\\envs\\cnncl\\lib\\site-packages\\rich\\live.py:231: UserWarning: install \"ipywidgets\" for \n",
       "Jupyter support\n",
       "  warnings.warn('install \"ipywidgets\" for Jupyter support')\n",
       "</pre>\n"
      ],
      "text/plain": [
       "c:\\Users\\anyum\\anaconda3\\envs\\cnncl\\lib\\site-packages\\rich\\live.py:231: UserWarning: install \"ipywidgets\" for \n",
       "Jupyter support\n",
       "  warnings.warn('install \"ipywidgets\" for Jupyter support')\n"
      ]
     },
     "metadata": {},
     "output_type": "display_data"
    },
    {
     "name": "stdout",
     "output_type": "stream",
     "text": [
      "\n",
      "\n",
      "Open the following link in your browser to authorize the client:\n",
      "https://dagshub.com/login/oauth/authorize?state=936dfc31-757b-4c24-bf97-237e5974fc0e&client_id=32b60ba385aa7cecf24046d8195a71c07dd345d9657977863b52e7748e0f0f28&middleman_request_id=b631273e017fb0023f1e500a40eeacc5ae0b251e09a6a775fcd8d6f66557dc1a\n",
      "\n",
      "\n",
      "[2025-04-08 00:11:16,255: INFO: _client: HTTP Request: POST https://dagshub.com/login/oauth/middleman \"HTTP/1.1 200 OK\"]\n"
     ]
    },
    {
     "data": {
      "text/html": [
       "<pre style=\"white-space:pre;overflow-x:auto;line-height:normal;font-family:Menlo,'DejaVu Sans Mono',consolas,'Courier New',monospace\"></pre>\n"
      ],
      "text/plain": []
     },
     "metadata": {},
     "output_type": "display_data"
    },
    {
     "name": "stdout",
     "output_type": "stream",
     "text": [
      "[2025-04-08 00:11:17,235: INFO: _client: HTTP Request: POST https://dagshub.com/login/oauth/access_token \"HTTP/1.1 200 OK\"]\n",
      "[2025-04-08 00:11:18,407: INFO: _client: HTTP Request: GET https://dagshub.com/api/v1/user \"HTTP/1.1 200 OK\"]\n"
     ]
    },
    {
     "data": {
      "text/html": [
       "<pre style=\"white-space:pre;overflow-x:auto;line-height:normal;font-family:Menlo,'DejaVu Sans Mono',consolas,'Courier New',monospace\">Accessing as chaba-victor\n",
       "</pre>\n"
      ],
      "text/plain": [
       "Accessing as chaba-victor\n"
      ]
     },
     "metadata": {},
     "output_type": "display_data"
    },
    {
     "name": "stdout",
     "output_type": "stream",
     "text": [
      "[2025-04-08 00:11:18,436: INFO: helpers: Accessing as chaba-victor]\n",
      "[2025-04-08 00:11:19,480: INFO: _client: HTTP Request: GET https://dagshub.com/api/v1/repos/chaba-victor/cnn-classifier \"HTTP/1.1 200 OK\"]\n",
      "[2025-04-08 00:11:20,503: INFO: _client: HTTP Request: GET https://dagshub.com/api/v1/user \"HTTP/1.1 200 OK\"]\n"
     ]
    },
    {
     "data": {
      "text/html": [
       "<pre style=\"white-space:pre;overflow-x:auto;line-height:normal;font-family:Menlo,'DejaVu Sans Mono',consolas,'Courier New',monospace\">Initialized MLflow to track repo <span style=\"color: #008000; text-decoration-color: #008000\">\"chaba-victor/cnn-classifier\"</span>\n",
       "</pre>\n"
      ],
      "text/plain": [
       "Initialized MLflow to track repo \u001b[32m\"chaba-victor/cnn-classifier\"\u001b[0m\n"
      ]
     },
     "metadata": {},
     "output_type": "display_data"
    },
    {
     "name": "stdout",
     "output_type": "stream",
     "text": [
      "[2025-04-08 00:11:20,525: INFO: helpers: Initialized MLflow to track repo \"chaba-victor/cnn-classifier\"]\n"
     ]
    },
    {
     "data": {
      "text/html": [
       "<pre style=\"white-space:pre;overflow-x:auto;line-height:normal;font-family:Menlo,'DejaVu Sans Mono',consolas,'Courier New',monospace\">Repository chaba-victor/cnn-classifier initialized!\n",
       "</pre>\n"
      ],
      "text/plain": [
       "Repository chaba-victor/cnn-classifier initialized!\n"
      ]
     },
     "metadata": {},
     "output_type": "display_data"
    },
    {
     "name": "stdout",
     "output_type": "stream",
     "text": [
      "[2025-04-08 00:11:20,543: INFO: helpers: Repository chaba-victor/cnn-classifier initialized!]\n"
     ]
    }
   ],
   "source": [
    "dagshub.init(repo_owner='chaba-victor', repo_name='cnn-classifier', mlflow=True)"
   ]
  },
  {
   "cell_type": "code",
   "execution_count": 14,
   "metadata": {},
   "outputs": [],
   "source": [
    "class Evaluation:\n",
    "    def __init__(self, config: EvaluationConfig):\n",
    "        self.config = config\n",
    "\n",
    "    \n",
    "    def _valid_generator(self):\n",
    "\n",
    "        datagenerator_kwargs = dict(\n",
    "            rescale = 1./255,\n",
    "            validation_split=0.30\n",
    "        )\n",
    "\n",
    "        dataflow_kwargs = dict(\n",
    "            target_size=self.config.params_image_size[:-1],\n",
    "            batch_size=self.config.params_batch_size,\n",
    "            interpolation=\"bilinear\"\n",
    "        )\n",
    "\n",
    "        valid_datagenerator = tf.keras.preprocessing.image.ImageDataGenerator(\n",
    "            **datagenerator_kwargs\n",
    "        )\n",
    "\n",
    "        self.valid_generator = valid_datagenerator.flow_from_directory(\n",
    "            directory=self.config.training_data,\n",
    "            subset=\"validation\",\n",
    "            shuffle=False,\n",
    "            **dataflow_kwargs\n",
    "        )\n",
    "\n",
    "\n",
    "    @staticmethod\n",
    "    def load_model(path: Path) -> tf.keras.Model:\n",
    "        return tf.keras.models.load_model(path)\n",
    "    \n",
    "\n",
    "    def evaluation(self):\n",
    "        self.model = self.load_model(self.config.path_of_model)\n",
    "        self._valid_generator()\n",
    "        self.score = model.evaluate(self.valid_generator)\n",
    "        self.save_score()\n",
    "\n",
    "    def save_score(self):\n",
    "        scores = {\"loss\": self.score[0], \"accuracy\": self.score[1]}\n",
    "        save_json(path=Path(\"scores.json\"), data=scores)\n",
    "\n",
    "    \n",
    "    def log_into_mlflow(self):\n",
    "        mlflow.set_registry_uri(self.config.mlflow_uri)\n",
    "        mlflow.set_experiment(\"my_experiment\")\n",
    "        tracking_url_type_store = urlparse(mlflow.get_tracking_uri()).scheme\n",
    "        \n",
    "        with mlflow.start_run(run_name=\"evaluation_run\"):\n",
    "            mlflow.log_params(self.config.all_params)\n",
    "            mlflow.log_metrics(\n",
    "                {\"loss\": self.score[0], \"accuracy\": self.score[1]}\n",
    "            )\n",
    "            # Model registry does not work with file store\n",
    "            if tracking_url_type_store != \"file\":\n",
    "\n",
    "                # Register the model\n",
    "                # There are other ways to use the Model Registry, which depends on the use case,\n",
    "                # please refer to the doc for more information:\n",
    "                # https://mlflow.org/docs/latest/model-registry.html#api-workflow\n",
    "                mlflow.keras.log_model(self.model, \"model\", registered_model_name=\"VGG16Model\")\n",
    "            else:\n",
    "                mlflow.keras.log_model(self.model, \"model\")\n"
   ]
  },
  {
   "cell_type": "code",
   "execution_count": 15,
   "metadata": {},
   "outputs": [
    {
     "name": "stdout",
     "output_type": "stream",
     "text": [
      "[2025-04-08 00:11:20,751: INFO: common: yaml file: config\\config.yaml loaded successfully]\n",
      "[2025-04-08 00:11:20,771: INFO: common: yaml file: params.yaml loaded successfully]\n",
      "[2025-04-08 00:11:20,779: INFO: common: created directory at: artifacts]\n"
     ]
    },
    {
     "name": "stdout",
     "output_type": "stream",
     "text": [
      "Found 139 images belonging to 2 classes.\n",
      "5/5 [==============================] - 26s 4s/step - loss: 22.0054 - accuracy: 0.5468\n",
      "[2025-04-08 00:11:48,499: INFO: common: json file saved at: scores.json]\n"
     ]
    },
    {
     "ename": "RestException",
     "evalue": "INVALID_PARAMETER_VALUE: Response: {'error_code': 'INVALID_PARAMETER_VALUE'}",
     "output_type": "error",
     "traceback": [
      "\u001b[1;31m---------------------------------------------------------------------------\u001b[0m",
      "\u001b[1;31mRestException\u001b[0m                             Traceback (most recent call last)",
      "Cell \u001b[1;32mIn[15], line 9\u001b[0m\n\u001b[0;32m      6\u001b[0m     evaluation\u001b[38;5;241m.\u001b[39mlog_into_mlflow()\n\u001b[0;32m      8\u001b[0m \u001b[38;5;28;01mexcept\u001b[39;00m \u001b[38;5;167;01mException\u001b[39;00m \u001b[38;5;28;01mas\u001b[39;00m e:\n\u001b[1;32m----> 9\u001b[0m    \u001b[38;5;28;01mraise\u001b[39;00m e\n",
      "Cell \u001b[1;32mIn[15], line 6\u001b[0m\n\u001b[0;32m      4\u001b[0m     evaluation \u001b[38;5;241m=\u001b[39m Evaluation(eval_config)\n\u001b[0;32m      5\u001b[0m     evaluation\u001b[38;5;241m.\u001b[39mevaluation()\n\u001b[1;32m----> 6\u001b[0m     \u001b[43mevaluation\u001b[49m\u001b[38;5;241;43m.\u001b[39;49m\u001b[43mlog_into_mlflow\u001b[49m\u001b[43m(\u001b[49m\u001b[43m)\u001b[49m\n\u001b[0;32m      8\u001b[0m \u001b[38;5;28;01mexcept\u001b[39;00m \u001b[38;5;167;01mException\u001b[39;00m \u001b[38;5;28;01mas\u001b[39;00m e:\n\u001b[0;32m      9\u001b[0m    \u001b[38;5;28;01mraise\u001b[39;00m e\n",
      "Cell \u001b[1;32mIn[14], line 51\u001b[0m, in \u001b[0;36mEvaluation.log_into_mlflow\u001b[1;34m(self)\u001b[0m\n\u001b[0;32m     48\u001b[0m mlflow\u001b[38;5;241m.\u001b[39mset_registry_uri(\u001b[38;5;28mself\u001b[39m\u001b[38;5;241m.\u001b[39mconfig\u001b[38;5;241m.\u001b[39mmlflow_uri)\n\u001b[0;32m     49\u001b[0m tracking_url_type_store \u001b[38;5;241m=\u001b[39m urlparse(mlflow\u001b[38;5;241m.\u001b[39mget_tracking_uri())\u001b[38;5;241m.\u001b[39mscheme\n\u001b[1;32m---> 51\u001b[0m \u001b[38;5;28;01mwith\u001b[39;00m \u001b[43mmlflow\u001b[49m\u001b[38;5;241;43m.\u001b[39;49m\u001b[43mstart_run\u001b[49m\u001b[43m(\u001b[49m\u001b[43m)\u001b[49m:\n\u001b[0;32m     52\u001b[0m     mlflow\u001b[38;5;241m.\u001b[39mlog_params(\u001b[38;5;28mself\u001b[39m\u001b[38;5;241m.\u001b[39mconfig\u001b[38;5;241m.\u001b[39mall_params)\n\u001b[0;32m     53\u001b[0m     mlflow\u001b[38;5;241m.\u001b[39mlog_metrics(\n\u001b[0;32m     54\u001b[0m         {\u001b[38;5;124m\"\u001b[39m\u001b[38;5;124mloss\u001b[39m\u001b[38;5;124m\"\u001b[39m: \u001b[38;5;28mself\u001b[39m\u001b[38;5;241m.\u001b[39mscore[\u001b[38;5;241m0\u001b[39m], \u001b[38;5;124m\"\u001b[39m\u001b[38;5;124maccuracy\u001b[39m\u001b[38;5;124m\"\u001b[39m: \u001b[38;5;28mself\u001b[39m\u001b[38;5;241m.\u001b[39mscore[\u001b[38;5;241m1\u001b[39m]}\n\u001b[0;32m     55\u001b[0m     )\n",
      "File \u001b[1;32mc:\\Users\\anyum\\anaconda3\\envs\\cnncl\\lib\\site-packages\\mlflow\\tracking\\fluent.py:350\u001b[0m, in \u001b[0;36mstart_run\u001b[1;34m(run_id, experiment_id, run_name, nested, tags, description)\u001b[0m\n\u001b[0;32m    346\u001b[0m         user_specified_tags[MLFLOW_RUN_NAME] \u001b[38;5;241m=\u001b[39m run_name\n\u001b[0;32m    348\u001b[0m     resolved_tags \u001b[38;5;241m=\u001b[39m context_registry\u001b[38;5;241m.\u001b[39mresolve_tags(user_specified_tags)\n\u001b[1;32m--> 350\u001b[0m     active_run_obj \u001b[38;5;241m=\u001b[39m \u001b[43mclient\u001b[49m\u001b[38;5;241;43m.\u001b[39;49m\u001b[43mcreate_run\u001b[49m\u001b[43m(\u001b[49m\n\u001b[0;32m    351\u001b[0m \u001b[43m        \u001b[49m\u001b[43mexperiment_id\u001b[49m\u001b[38;5;241;43m=\u001b[39;49m\u001b[43mexp_id_for_run\u001b[49m\u001b[43m,\u001b[49m\u001b[43m \u001b[49m\u001b[43mtags\u001b[49m\u001b[38;5;241;43m=\u001b[39;49m\u001b[43mresolved_tags\u001b[49m\u001b[43m,\u001b[49m\u001b[43m \u001b[49m\u001b[43mrun_name\u001b[49m\u001b[38;5;241;43m=\u001b[39;49m\u001b[43mrun_name\u001b[49m\n\u001b[0;32m    352\u001b[0m \u001b[43m    \u001b[49m\u001b[43m)\u001b[49m\n\u001b[0;32m    354\u001b[0m _active_run_stack\u001b[38;5;241m.\u001b[39mappend(ActiveRun(active_run_obj))\n\u001b[0;32m    355\u001b[0m \u001b[38;5;28;01mreturn\u001b[39;00m _active_run_stack[\u001b[38;5;241m-\u001b[39m\u001b[38;5;241m1\u001b[39m]\n",
      "File \u001b[1;32mc:\\Users\\anyum\\anaconda3\\envs\\cnncl\\lib\\site-packages\\mlflow\\tracking\\client.py:275\u001b[0m, in \u001b[0;36mMlflowClient.create_run\u001b[1;34m(self, experiment_id, start_time, tags, run_name)\u001b[0m\n\u001b[0;32m    224\u001b[0m \u001b[38;5;28;01mdef\u001b[39;00m\u001b[38;5;250m \u001b[39m\u001b[38;5;21mcreate_run\u001b[39m(\n\u001b[0;32m    225\u001b[0m     \u001b[38;5;28mself\u001b[39m,\n\u001b[0;32m    226\u001b[0m     experiment_id: \u001b[38;5;28mstr\u001b[39m,\n\u001b[1;32m   (...)\u001b[0m\n\u001b[0;32m    229\u001b[0m     run_name: Optional[\u001b[38;5;28mstr\u001b[39m] \u001b[38;5;241m=\u001b[39m \u001b[38;5;28;01mNone\u001b[39;00m,\n\u001b[0;32m    230\u001b[0m ) \u001b[38;5;241m-\u001b[39m\u001b[38;5;241m>\u001b[39m Run:\n\u001b[0;32m    231\u001b[0m \u001b[38;5;250m    \u001b[39m\u001b[38;5;124;03m\"\"\"\u001b[39;00m\n\u001b[0;32m    232\u001b[0m \u001b[38;5;124;03m    Create a :py:class:`mlflow.entities.Run` object that can be associated with\u001b[39;00m\n\u001b[0;32m    233\u001b[0m \u001b[38;5;124;03m    metrics, parameters, artifacts, etc.\u001b[39;00m\n\u001b[1;32m   (...)\u001b[0m\n\u001b[0;32m    273\u001b[0m \u001b[38;5;124;03m        status: RUNNING\u001b[39;00m\n\u001b[0;32m    274\u001b[0m \u001b[38;5;124;03m    \"\"\"\u001b[39;00m\n\u001b[1;32m--> 275\u001b[0m     \u001b[38;5;28;01mreturn\u001b[39;00m \u001b[38;5;28;43mself\u001b[39;49m\u001b[38;5;241;43m.\u001b[39;49m\u001b[43m_tracking_client\u001b[49m\u001b[38;5;241;43m.\u001b[39;49m\u001b[43mcreate_run\u001b[49m\u001b[43m(\u001b[49m\u001b[43mexperiment_id\u001b[49m\u001b[43m,\u001b[49m\u001b[43m \u001b[49m\u001b[43mstart_time\u001b[49m\u001b[43m,\u001b[49m\u001b[43m \u001b[49m\u001b[43mtags\u001b[49m\u001b[43m,\u001b[49m\u001b[43m \u001b[49m\u001b[43mrun_name\u001b[49m\u001b[43m)\u001b[49m\n",
      "File \u001b[1;32mc:\\Users\\anyum\\anaconda3\\envs\\cnncl\\lib\\site-packages\\mlflow\\tracking\\_tracking_service\\client.py:131\u001b[0m, in \u001b[0;36mTrackingServiceClient.create_run\u001b[1;34m(self, experiment_id, start_time, tags, run_name)\u001b[0m\n\u001b[0;32m    126\u001b[0m \u001b[38;5;66;03m# Extract user from tags\u001b[39;00m\n\u001b[0;32m    127\u001b[0m \u001b[38;5;66;03m# This logic is temporary; the user_id attribute of runs is deprecated and will be removed\u001b[39;00m\n\u001b[0;32m    128\u001b[0m \u001b[38;5;66;03m# in a later release.\u001b[39;00m\n\u001b[0;32m    129\u001b[0m user_id \u001b[38;5;241m=\u001b[39m tags\u001b[38;5;241m.\u001b[39mget(MLFLOW_USER, \u001b[38;5;124m\"\u001b[39m\u001b[38;5;124munknown\u001b[39m\u001b[38;5;124m\"\u001b[39m)\n\u001b[1;32m--> 131\u001b[0m \u001b[38;5;28;01mreturn\u001b[39;00m \u001b[38;5;28;43mself\u001b[39;49m\u001b[38;5;241;43m.\u001b[39;49m\u001b[43mstore\u001b[49m\u001b[38;5;241;43m.\u001b[39;49m\u001b[43mcreate_run\u001b[49m\u001b[43m(\u001b[49m\n\u001b[0;32m    132\u001b[0m \u001b[43m    \u001b[49m\u001b[43mexperiment_id\u001b[49m\u001b[38;5;241;43m=\u001b[39;49m\u001b[43mexperiment_id\u001b[49m\u001b[43m,\u001b[49m\n\u001b[0;32m    133\u001b[0m \u001b[43m    \u001b[49m\u001b[43muser_id\u001b[49m\u001b[38;5;241;43m=\u001b[39;49m\u001b[43muser_id\u001b[49m\u001b[43m,\u001b[49m\n\u001b[0;32m    134\u001b[0m \u001b[43m    \u001b[49m\u001b[43mstart_time\u001b[49m\u001b[38;5;241;43m=\u001b[39;49m\u001b[43mstart_time\u001b[49m\u001b[43m \u001b[49m\u001b[38;5;129;43;01mor\u001b[39;49;00m\u001b[43m \u001b[49m\u001b[43mget_current_time_millis\u001b[49m\u001b[43m(\u001b[49m\u001b[43m)\u001b[49m\u001b[43m,\u001b[49m\n\u001b[0;32m    135\u001b[0m \u001b[43m    \u001b[49m\u001b[43mtags\u001b[49m\u001b[38;5;241;43m=\u001b[39;49m\u001b[43m[\u001b[49m\u001b[43mRunTag\u001b[49m\u001b[43m(\u001b[49m\u001b[43mkey\u001b[49m\u001b[43m,\u001b[49m\u001b[43m \u001b[49m\u001b[43mvalue\u001b[49m\u001b[43m)\u001b[49m\u001b[43m \u001b[49m\u001b[38;5;28;43;01mfor\u001b[39;49;00m\u001b[43m \u001b[49m\u001b[43m(\u001b[49m\u001b[43mkey\u001b[49m\u001b[43m,\u001b[49m\u001b[43m \u001b[49m\u001b[43mvalue\u001b[49m\u001b[43m)\u001b[49m\u001b[43m \u001b[49m\u001b[38;5;129;43;01min\u001b[39;49;00m\u001b[43m \u001b[49m\u001b[43mtags\u001b[49m\u001b[38;5;241;43m.\u001b[39;49m\u001b[43mitems\u001b[49m\u001b[43m(\u001b[49m\u001b[43m)\u001b[49m\u001b[43m]\u001b[49m\u001b[43m,\u001b[49m\n\u001b[0;32m    136\u001b[0m \u001b[43m    \u001b[49m\u001b[43mrun_name\u001b[49m\u001b[38;5;241;43m=\u001b[39;49m\u001b[43mrun_name\u001b[49m\u001b[43m,\u001b[49m\n\u001b[0;32m    137\u001b[0m \u001b[43m\u001b[49m\u001b[43m)\u001b[49m\n",
      "File \u001b[1;32mc:\\Users\\anyum\\anaconda3\\envs\\cnncl\\lib\\site-packages\\mlflow\\store\\tracking\\rest_store.py:175\u001b[0m, in \u001b[0;36mRestStore.create_run\u001b[1;34m(self, experiment_id, user_id, start_time, tags, run_name)\u001b[0m\n\u001b[0;32m    165\u001b[0m tag_protos \u001b[38;5;241m=\u001b[39m [tag\u001b[38;5;241m.\u001b[39mto_proto() \u001b[38;5;28;01mfor\u001b[39;00m tag \u001b[38;5;129;01min\u001b[39;00m tags]\n\u001b[0;32m    166\u001b[0m req_body \u001b[38;5;241m=\u001b[39m message_to_json(\n\u001b[0;32m    167\u001b[0m     CreateRun(\n\u001b[0;32m    168\u001b[0m         experiment_id\u001b[38;5;241m=\u001b[39m\u001b[38;5;28mstr\u001b[39m(experiment_id),\n\u001b[1;32m   (...)\u001b[0m\n\u001b[0;32m    173\u001b[0m     )\n\u001b[0;32m    174\u001b[0m )\n\u001b[1;32m--> 175\u001b[0m response_proto \u001b[38;5;241m=\u001b[39m \u001b[38;5;28;43mself\u001b[39;49m\u001b[38;5;241;43m.\u001b[39;49m\u001b[43m_call_endpoint\u001b[49m\u001b[43m(\u001b[49m\u001b[43mCreateRun\u001b[49m\u001b[43m,\u001b[49m\u001b[43m \u001b[49m\u001b[43mreq_body\u001b[49m\u001b[43m)\u001b[49m\n\u001b[0;32m    176\u001b[0m run \u001b[38;5;241m=\u001b[39m Run\u001b[38;5;241m.\u001b[39mfrom_proto(response_proto\u001b[38;5;241m.\u001b[39mrun)\n\u001b[0;32m    177\u001b[0m \u001b[38;5;28;01mreturn\u001b[39;00m run\n",
      "File \u001b[1;32mc:\\Users\\anyum\\anaconda3\\envs\\cnncl\\lib\\site-packages\\mlflow\\store\\tracking\\rest_store.py:56\u001b[0m, in \u001b[0;36mRestStore._call_endpoint\u001b[1;34m(self, api, json_body)\u001b[0m\n\u001b[0;32m     54\u001b[0m endpoint, method \u001b[38;5;241m=\u001b[39m _METHOD_TO_INFO[api]\n\u001b[0;32m     55\u001b[0m response_proto \u001b[38;5;241m=\u001b[39m api\u001b[38;5;241m.\u001b[39mResponse()\n\u001b[1;32m---> 56\u001b[0m \u001b[38;5;28;01mreturn\u001b[39;00m \u001b[43mcall_endpoint\u001b[49m\u001b[43m(\u001b[49m\u001b[38;5;28;43mself\u001b[39;49m\u001b[38;5;241;43m.\u001b[39;49m\u001b[43mget_host_creds\u001b[49m\u001b[43m(\u001b[49m\u001b[43m)\u001b[49m\u001b[43m,\u001b[49m\u001b[43m \u001b[49m\u001b[43mendpoint\u001b[49m\u001b[43m,\u001b[49m\u001b[43m \u001b[49m\u001b[43mmethod\u001b[49m\u001b[43m,\u001b[49m\u001b[43m \u001b[49m\u001b[43mjson_body\u001b[49m\u001b[43m,\u001b[49m\u001b[43m \u001b[49m\u001b[43mresponse_proto\u001b[49m\u001b[43m)\u001b[49m\n",
      "File \u001b[1;32mc:\\Users\\anyum\\anaconda3\\envs\\cnncl\\lib\\site-packages\\mlflow\\utils\\rest_utils.py:281\u001b[0m, in \u001b[0;36mcall_endpoint\u001b[1;34m(host_creds, endpoint, method, json_body, response_proto)\u001b[0m\n\u001b[0;32m    277\u001b[0m \u001b[38;5;28;01melse\u001b[39;00m:\n\u001b[0;32m    278\u001b[0m     response \u001b[38;5;241m=\u001b[39m http_request(\n\u001b[0;32m    279\u001b[0m         host_creds\u001b[38;5;241m=\u001b[39mhost_creds, endpoint\u001b[38;5;241m=\u001b[39mendpoint, method\u001b[38;5;241m=\u001b[39mmethod, json\u001b[38;5;241m=\u001b[39mjson_body\n\u001b[0;32m    280\u001b[0m     )\n\u001b[1;32m--> 281\u001b[0m response \u001b[38;5;241m=\u001b[39m \u001b[43mverify_rest_response\u001b[49m\u001b[43m(\u001b[49m\u001b[43mresponse\u001b[49m\u001b[43m,\u001b[49m\u001b[43m \u001b[49m\u001b[43mendpoint\u001b[49m\u001b[43m)\u001b[49m\n\u001b[0;32m    282\u001b[0m js_dict \u001b[38;5;241m=\u001b[39m json\u001b[38;5;241m.\u001b[39mloads(response\u001b[38;5;241m.\u001b[39mtext)\n\u001b[0;32m    283\u001b[0m parse_dict(js_dict\u001b[38;5;241m=\u001b[39mjs_dict, message\u001b[38;5;241m=\u001b[39mresponse_proto)\n",
      "File \u001b[1;32mc:\\Users\\anyum\\anaconda3\\envs\\cnncl\\lib\\site-packages\\mlflow\\utils\\rest_utils.py:207\u001b[0m, in \u001b[0;36mverify_rest_response\u001b[1;34m(response, endpoint)\u001b[0m\n\u001b[0;32m    205\u001b[0m \u001b[38;5;28;01mif\u001b[39;00m response\u001b[38;5;241m.\u001b[39mstatus_code \u001b[38;5;241m!=\u001b[39m \u001b[38;5;241m200\u001b[39m:\n\u001b[0;32m    206\u001b[0m     \u001b[38;5;28;01mif\u001b[39;00m _can_parse_as_json_object(response\u001b[38;5;241m.\u001b[39mtext):\n\u001b[1;32m--> 207\u001b[0m         \u001b[38;5;28;01mraise\u001b[39;00m RestException(json\u001b[38;5;241m.\u001b[39mloads(response\u001b[38;5;241m.\u001b[39mtext))\n\u001b[0;32m    208\u001b[0m     \u001b[38;5;28;01melse\u001b[39;00m:\n\u001b[0;32m    209\u001b[0m         base_msg \u001b[38;5;241m=\u001b[39m \u001b[38;5;124m\"\u001b[39m\u001b[38;5;124mAPI request to endpoint \u001b[39m\u001b[38;5;132;01m{}\u001b[39;00m\u001b[38;5;124m failed with error code \u001b[39m\u001b[38;5;132;01m{}\u001b[39;00m\u001b[38;5;124m != 200\u001b[39m\u001b[38;5;124m\"\u001b[39m\u001b[38;5;241m.\u001b[39mformat(\n\u001b[0;32m    210\u001b[0m             endpoint,\n\u001b[0;32m    211\u001b[0m             response\u001b[38;5;241m.\u001b[39mstatus_code,\n\u001b[0;32m    212\u001b[0m         )\n",
      "\u001b[1;31mRestException\u001b[0m: INVALID_PARAMETER_VALUE: Response: {'error_code': 'INVALID_PARAMETER_VALUE'}"
     ]
    }
   ],
   "source": [
    "try:\n",
    "    config = ConfigurationManager()\n",
    "    eval_config = config.get_evaluation_config()\n",
    "    evaluation = Evaluation(eval_config)\n",
    "    evaluation.evaluation()\n",
    "    evaluation.log_into_mlflow()\n",
    "\n",
    "except Exception as e:\n",
    "   raise e"
   ]
  },
  {
   "cell_type": "code",
   "execution_count": null,
   "metadata": {},
   "outputs": [],
   "source": []
  }
 ],
 "metadata": {
  "kernelspec": {
   "display_name": "cnncl",
   "language": "python",
   "name": "python3"
  },
  "language_info": {
   "codemirror_mode": {
    "name": "ipython",
    "version": 3
   },
   "file_extension": ".py",
   "mimetype": "text/x-python",
   "name": "python",
   "nbconvert_exporter": "python",
   "pygments_lexer": "ipython3",
   "version": "3.8.20"
  },
  "orig_nbformat": 4
 },
 "nbformat": 4,
 "nbformat_minor": 2
}
